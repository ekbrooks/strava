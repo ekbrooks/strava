{
 "cells": [
  {
   "cell_type": "code",
   "execution_count": 2,
   "metadata": {},
   "outputs": [],
   "source": [
    "import pandas as pd\n",
    "import seaborn as sns"
   ]
  },
  {
   "cell_type": "code",
   "execution_count": 3,
   "metadata": {},
   "outputs": [],
   "source": [
    "df = pd.read_csv('/Users/ebrooks/Desktop/IAA/side proj/strava/export_61923148/activities.csv')"
   ]
  },
  {
   "cell_type": "code",
   "execution_count": 4,
   "metadata": {},
   "outputs": [
    {
     "name": "stdout",
     "output_type": "stream",
     "text": [
      "(818, 94)\n",
      "Index(['Activity ID', 'Activity Date', 'Activity Name', 'Activity Type',\n",
      "       'Activity Description', 'Elapsed Time', 'Distance', 'Max Heart Rate',\n",
      "       'Relative Effort', 'Commute', 'Activity Private Note', 'Activity Gear',\n",
      "       'Filename', 'Athlete Weight', 'Bike Weight', 'Elapsed Time.1',\n",
      "       'Moving Time', 'Distance.1', 'Max Speed', 'Average Speed',\n",
      "       'Elevation Gain', 'Elevation Loss', 'Elevation Low', 'Elevation High',\n",
      "       'Max Grade', 'Average Grade', 'Average Positive Grade',\n",
      "       'Average Negative Grade', 'Max Cadence', 'Average Cadence',\n",
      "       'Max Heart Rate.1', 'Average Heart Rate', 'Max Watts', 'Average Watts',\n",
      "       'Calories', 'Max Temperature', 'Average Temperature',\n",
      "       'Relative Effort.1', 'Total Work', 'Number of Runs', 'Uphill Time',\n",
      "       'Downhill Time', 'Other Time', 'Perceived Exertion', 'Type',\n",
      "       'Start Time', 'Weighted Average Power', 'Power Count',\n",
      "       'Prefer Perceived Exertion', 'Perceived Relative Effort', 'Commute.1',\n",
      "       'Total Weight Lifted', 'From Upload', 'Grade Adjusted Distance',\n",
      "       'Weather Observation Time', 'Weather Condition', 'Weather Temperature',\n",
      "       'Apparent Temperature', 'Dewpoint', 'Humidity', 'Weather Pressure',\n",
      "       'Wind Speed', 'Wind Gust', 'Wind Bearing', 'Precipitation Intensity',\n",
      "       'Sunrise Time', 'Sunset Time', 'Moon Phase', 'Bike', 'Gear',\n",
      "       'Precipitation Probability', 'Precipitation Type', 'Cloud Cover',\n",
      "       'Weather Visibility', 'UV Index', 'Weather Ozone', 'Jump Count',\n",
      "       'Total Grit', 'Average Flow', 'Flagged', 'Average Elapsed Speed',\n",
      "       'Dirt Distance', 'Newly Explored Distance',\n",
      "       'Newly Explored Dirt Distance', 'Activity Count', 'Total Steps',\n",
      "       'Carbon Saved', 'Pool Length', 'Training Load', 'Intensity',\n",
      "       'Average Grade Adjusted Pace', 'Timer Time', 'Total Cycles', 'Media'],\n",
      "      dtype='object')\n"
     ]
    }
   ],
   "source": [
    "print(df.shape)\n",
    "print(df.columns)"
   ]
  },
  {
   "cell_type": "code",
   "execution_count": 5,
   "metadata": {},
   "outputs": [
    {
     "data": {
      "text/plain": [
       "Activity Type\n",
       "Run                529\n",
       "Walk               225\n",
       "Weight Training     29\n",
       "Workout             15\n",
       "Ride                14\n",
       "Swim                 3\n",
       "Yoga                 2\n",
       "Hike                 1\n",
       "Name: count, dtype: int64"
      ]
     },
     "execution_count": 5,
     "metadata": {},
     "output_type": "execute_result"
    }
   ],
   "source": [
    "df['Activity Type'].value_counts()"
   ]
  },
  {
   "cell_type": "code",
   "execution_count": 11,
   "metadata": {},
   "outputs": [],
   "source": [
    "df = df[df['Activity Type'].isin(['Run','Walk'])]"
   ]
  },
  {
   "cell_type": "code",
   "execution_count": 6,
   "metadata": {},
   "outputs": [
    {
     "name": "stdout",
     "output_type": "stream",
     "text": [
      "2148.69804400978\n",
      "173.570987654321\n",
      "33.53858024691358\n"
     ]
    }
   ],
   "source": [
    "print(df['Elapsed Time'].mean())\n",
    "print(df['Max Heart Rate'].mean())\n",
    "print(df['Relative Effort'].mean())"
   ]
  },
  {
   "cell_type": "code",
   "execution_count": 12,
   "metadata": {},
   "outputs": [],
   "source": [
    "df = df.dropna(axis = 1, how = 'all')"
   ]
  },
  {
   "cell_type": "code",
   "execution_count": null,
   "metadata": {},
   "outputs": [
    {
     "data": {
      "text/plain": [
       "Index(['Activity ID', 'Activity Date', 'Activity Name', 'Activity Type',\n",
       "       'Activity Description', 'Elapsed Time', 'Distance', 'Max Heart Rate',\n",
       "       'Relative Effort', 'Commute', 'Activity Gear', 'Filename',\n",
       "       'Elapsed Time.1', 'Moving Time', 'Distance.1', 'Max Speed',\n",
       "       'Average Speed', 'Elevation Gain', 'Elevation Loss', 'Elevation Low',\n",
       "       'Elevation High', 'Max Grade', 'Average Grade', 'Max Cadence',\n",
       "       'Average Cadence', 'Max Heart Rate.1', 'Average Heart Rate',\n",
       "       'Average Watts', 'Calories', 'Relative Effort.1', 'Perceived Exertion',\n",
       "       'Prefer Perceived Exertion', 'Perceived Relative Effort', 'Commute.1',\n",
       "       'From Upload', 'Grade Adjusted Distance', 'Weather Observation Time',\n",
       "       'Weather Condition', 'Weather Temperature', 'Apparent Temperature',\n",
       "       'Dewpoint', 'Humidity', 'Weather Pressure', 'Wind Speed', 'Wind Gust',\n",
       "       'Wind Bearing', 'Precipitation Intensity', 'Sunrise Time',\n",
       "       'Sunset Time', 'Moon Phase', 'Gear', 'Precipitation Probability',\n",
       "       'Precipitation Type', 'Cloud Cover', 'Weather Visibility', 'UV Index',\n",
       "       'Flagged', 'Average Elapsed Speed', 'Dirt Distance', 'Total Steps',\n",
       "       'Average Grade Adjusted Pace', 'Media'],\n",
       "      dtype='object')"
      ]
     },
     "execution_count": 14,
     "metadata": {},
     "output_type": "execute_result"
    }
   ],
   "source": [
    "df.shape"
   ]
  }
 ],
 "metadata": {
  "kernelspec": {
   "display_name": "class",
   "language": "python",
   "name": "python3"
  },
  "language_info": {
   "codemirror_mode": {
    "name": "ipython",
    "version": 3
   },
   "file_extension": ".py",
   "mimetype": "text/x-python",
   "name": "python",
   "nbconvert_exporter": "python",
   "pygments_lexer": "ipython3",
   "version": "3.11.9"
  }
 },
 "nbformat": 4,
 "nbformat_minor": 2
}
